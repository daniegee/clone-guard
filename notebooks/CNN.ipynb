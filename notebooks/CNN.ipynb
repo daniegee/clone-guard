{
 "cells": [
  {
   "cell_type": "markdown",
   "metadata": {},
   "source": [
    "### Step 1: Setup imports & libraries"
   ]
  },
  {
   "cell_type": "code",
   "execution_count": null,
   "metadata": {},
   "outputs": [],
   "source": [
    "import tensorflow as tf\n",
    "from tensorflow.keras import layers\n",
    "from tensorflow.keras.models import Sequential\n",
    "from sklearn.metrics import confusion_matrix, classification_report, accuracy_score\n",
    "import seaborn as sns\n",
    "import matplotlib.pyplot as plt\n",
    "import numpy as np\n",
    "import pathlib\n",
    "import os\n",
    "import cv2\n",
    "import pandas as pd\n",
    "from classes.GradCAM import GradCAM"
   ]
  },
  {
   "cell_type": "markdown",
   "metadata": {},
   "source": [
    "### Step 2: Configure Variables"
   ]
  },
  {
   "cell_type": "code",
   "execution_count": null,
   "metadata": {},
   "outputs": [],
   "source": [
    "model_name = \"new_model\" # The name of the model to save.\n",
    "batch_size = 32 # Number of samples processed before the model's weights are updated.\n",
    "img_height = 500 # Height of the input images to be resized to before being fed into the model.\n",
    "img_width = 500 # Width of the input images to be resized to before being fed into the model.\n",
    "epochs = 10 # Number of complete passes through the training dataset.\n",
    "training_dir = \"train/\" # Path to the training dataset.\n",
    "testing_dir = \"test/\" # Path to the testing dataset.\n",
    "show_heatmap = True # Whether to show the heatmap of the Grad-CAM.\n",
    "seed=123 # Seed for reproducibility."
   ]
  },
  {
   "cell_type": "markdown",
   "metadata": {},
   "source": [
    "### Step 3: Set Directory for Training Data"
   ]
  },
  {
   "cell_type": "code",
   "execution_count": null,
   "metadata": {},
   "outputs": [],
   "source": [
    "# Count total number of images in the training data\n",
    "data_dir = pathlib.Path(training_dir).with_suffix(\"\")\n",
    "total_image_count = len(list(data_dir.glob('*/*.jpg')))\n",
    "\n",
    "class_names = [] # Array to store class names\n",
    "class_counts = []  # Array to store counts\n",
    "total_image_count = 0  # Initialise total count\n",
    "\n",
    "# Count number of training images in each subfolder\n",
    "for folder in data_dir.iterdir():\n",
    "    if folder.is_dir():\n",
    "        image_count = len(list(folder.glob('*.jpg')))\n",
    "        class_counts.append(image_count)  # Save count in the array\n",
    "        class_names.append(folder.name)\n",
    "        total_image_count += image_count  # Update total count\n",
    "        print(f\"Number of {folder.name} images: {image_count}\")\n",
    "\n",
    "print(f\"Total number of images: {total_image_count}\\n\")"
   ]
  },
  {
   "cell_type": "markdown",
   "metadata": {},
   "source": [
    "### Step 4: Generate Class Distirbution Graph\n",
    "Used to check for data imbalances"
   ]
  },
  {
   "cell_type": "code",
   "execution_count": null,
   "metadata": {},
   "outputs": [],
   "source": [
    "class_counts = pd.Series(class_counts)\n",
    "\n",
    "plt.figure(figsize=(10, 10))\n",
    "class_counts.plot.pie(labels=class_names, autopct='%1.1f%%', startangle=90, counterclock=False)\n",
    "plt.ylabel('')  \n",
    "plt.title('Class Distribution')\n",
    "plt.savefig(\"class_distribution.png\")\n",
    "plt.show()"
   ]
  },
  {
   "cell_type": "markdown",
   "metadata": {},
   "source": [
    "### Step 5: Load & Partition Data"
   ]
  },
  {
   "cell_type": "code",
   "execution_count": null,
   "metadata": {},
   "outputs": [],
   "source": [
    "# Training Data\n",
    "train_ds = tf.keras.utils.image_dataset_from_directory(\n",
    "  data_dir,\n",
    "  validation_split=0.2,\n",
    "  subset=\"training\",\n",
    "  seed=seed,\n",
    "  image_size=(img_height, img_width),\n",
    "  batch_size=batch_size\n",
    ")\n",
    "\n",
    "# Validation Data\n",
    "val_ds = tf.keras.utils.image_dataset_from_directory(\n",
    "  data_dir,\n",
    "  validation_split=0.2,\n",
    "  subset=\"validation\",\n",
    "  seed=seed,\n",
    "  image_size=(img_height, img_width),\n",
    "  batch_size=batch_size\n",
    ")\n",
    "\n",
    "class_names = train_ds.class_names\n",
    "print(f\"Class Names: {class_names}\")"
   ]
  },
  {
   "cell_type": "markdown",
   "metadata": {},
   "source": [
    "### Step 6: Visualise Training Data Samples With Class Labels"
   ]
  },
  {
   "cell_type": "code",
   "execution_count": null,
   "metadata": {},
   "outputs": [],
   "source": [
    "plt.figure(figsize=(10, 10))\n",
    "for images, labels in train_ds.take(1):\n",
    "  for i in range(9):\n",
    "    ax = plt.subplot(3, 3, i + 1)\n",
    "    plt.imshow(images[i].numpy().astype(\"uint8\"))\n",
    "    plt.title(class_names[labels[i]])\n",
    "    plt.axis(\"off\")\n",
    "\n",
    "for image_batch, labels_batch in train_ds:\n",
    "  print(image_batch.shape)\n",
    "  print(labels_batch.shape)\n",
    "  break"
   ]
  },
  {
   "cell_type": "markdown",
   "metadata": {},
   "source": [
    "### Step 7. Configure the Dataset for Optimal Performance"
   ]
  },
  {
   "cell_type": "code",
   "execution_count": null,
   "metadata": {},
   "outputs": [],
   "source": [
    "AUTOTUNE = tf.data.AUTOTUNE\n",
    "\n",
    "train_ds = train_ds.cache().shuffle(1000).prefetch(buffer_size=AUTOTUNE)\n",
    "val_ds = val_ds.cache().prefetch(buffer_size=AUTOTUNE)"
   ]
  },
  {
   "cell_type": "markdown",
   "metadata": {},
   "source": [
    "### Step 8. Normalise Pixel Values of Dataset Images"
   ]
  },
  {
   "cell_type": "code",
   "execution_count": null,
   "metadata": {},
   "outputs": [],
   "source": [
    "normalization_layer = layers.Rescaling(1./255) # Normalisation layer to scale pixel values from [0, 255] to [0, 1]\n",
    "\n",
    "normalized_ds = train_ds.map(lambda x, y: (normalization_layer(x), y)) # Apply the normalisation layer to the training data\n",
    "\n",
    "# Get a batch of normalised images\n",
    "image_batch, labels_batch = next(iter(normalized_ds)) \n",
    "first_image = image_batch[0]\n",
    "\n",
    "print(np.min(first_image), np.max(first_image)) # Pixel values are now in `[0,1]`."
   ]
  },
  {
   "cell_type": "markdown",
   "metadata": {},
   "source": [
    "### Step 9. Build CNN Model Architecture\n",
    "In this step, we construct a CNN model using the `Sequential` API. The model architecture consists of several convolutional layers, pooling layers, and fully connected (dense) layers, designed to classify images into multiple categories."
   ]
  },
  {
   "cell_type": "code",
   "execution_count": null,
   "metadata": {},
   "outputs": [],
   "source": [
    "num_classes = len(class_names)\n",
    "\n",
    "model = Sequential([\n",
    "  layers.Rescaling(1./255, input_shape=(img_height, img_width, 3)),\n",
    "  layers.Conv2D(16, 3, padding='same', activation='relu'),\n",
    "  layers.MaxPooling2D(),\n",
    "  layers.Conv2D(32, 3, padding='same', activation='relu'),\n",
    "  layers.MaxPooling2D(),\n",
    "  layers.Conv2D(64, 3, padding='same', activation='relu'),\n",
    "  layers.MaxPooling2D(),\n",
    "  layers.Flatten(),\n",
    "  layers.Dense(128, activation='relu'),\n",
    "  layers.Dense(num_classes)\n",
    "])"
   ]
  },
  {
   "cell_type": "markdown",
   "metadata": {},
   "source": [
    "### Step 10. Compile CNN Model"
   ]
  },
  {
   "cell_type": "code",
   "execution_count": null,
   "metadata": {},
   "outputs": [],
   "source": [
    "model.compile(optimizer='adam',\n",
    "              loss=tf.keras.losses.SparseCategoricalCrossentropy(from_logits=True),\n",
    "              metrics=['accuracy'])\n",
    "\n",
    "model.summary()"
   ]
  },
  {
   "cell_type": "markdown",
   "metadata": {},
   "source": [
    "### Step 11. Train the Model"
   ]
  },
  {
   "cell_type": "code",
   "execution_count": null,
   "metadata": {},
   "outputs": [],
   "source": [
    "history = model.fit(train_ds, validation_data=val_ds, epochs=epochs)"
   ]
  },
  {
   "cell_type": "markdown",
   "metadata": {},
   "source": [
    "### Step 12. Visualising Training and Validation Performance"
   ]
  },
  {
   "cell_type": "code",
   "execution_count": null,
   "metadata": {},
   "outputs": [],
   "source": [
    "acc = history.history['accuracy']\n",
    "val_acc = history.history['val_accuracy']\n",
    "\n",
    "loss = history.history['loss']\n",
    "val_loss = history.history['val_loss']\n",
    "\n",
    "epochs_range = range(epochs)\n",
    "\n",
    "plt.figure(figsize=(8, 8))\n",
    "plt.subplot(1, 2, 1)\n",
    "plt.plot(epochs_range, acc, label='Training Accuracy')\n",
    "plt.plot(epochs_range, val_acc, label='Validation Accuracy')\n",
    "plt.legend(loc='lower right')\n",
    "plt.title('Training and Validation Accuracy')\n",
    "\n",
    "plt.subplot(1, 2, 2)\n",
    "plt.plot(epochs_range, loss, label='Training Loss')\n",
    "plt.plot(epochs_range, val_loss, label='Validation Loss')\n",
    "plt.legend(loc='upper right')\n",
    "plt.title('Training and Validation Loss')\n",
    "\n",
    "plt.savefig(f\"{model_name}_accuracy_loss.png\", bbox_inches = 'tight')\n",
    "\n",
    "plt.show()"
   ]
  },
  {
   "cell_type": "markdown",
   "metadata": {},
   "source": [
    "### Step 13. Test the Model\n"
   ]
  },
  {
   "cell_type": "code",
   "execution_count": null,
   "metadata": {},
   "outputs": [],
   "source": [
    "y_true_all = []\n",
    "y_pred_all = []\n",
    "\n",
    "for images, labels in val_ds:\n",
    "    predictions = model(images)\n",
    "    y_pred = tf.argmax(predictions, axis=1) \n",
    "    y_true = labels\n",
    "\n",
    "    y_true_all.extend(y_true.numpy())\n",
    "    y_pred_all.extend(y_pred.numpy())"
   ]
  },
  {
   "cell_type": "markdown",
   "metadata": {},
   "source": [
    "### Step 9. Evaluate the Model\n",
    "Calculate & visualise the model accuracy, confusion matrix & classification report"
   ]
  },
  {
   "cell_type": "code",
   "execution_count": null,
   "metadata": {},
   "outputs": [],
   "source": [
    "# Convert to numpy arrays\n",
    "y_true_all = np.array(y_true_all)\n",
    "y_pred_all = np.array(y_pred_all)\n",
    "\n",
    "accuracy = accuracy_score(y_true_all, y_pred_all)\n",
    "print(f\"Accuracy (CNN): {accuracy * 100:.2f}%\")\n",
    "\n",
    "\n",
    "# Calculate the confusion matrix\n",
    "conf_matrix = confusion_matrix(y_true_all, y_pred_all)\n",
    "\n",
    "print(\"Classification Report:\\n\", classification_report(y_true_all, y_pred_all))\n",
    "\n",
    "# Plot the confusion matrix\n",
    "plt.figure(figsize=(10, 8))\n",
    "sns.heatmap(conf_matrix, annot=True, fmt=\"d\", cmap=\"Blues\", xticklabels=class_names, yticklabels=class_names)\n",
    "plt.ylabel('Actual Label')\n",
    "plt.xlabel('Predicted Label')\n",
    "plt.title('CNN Confusion Matrix')\n",
    "plt.savefig(f\"{model_name}_confusion_matrix.png\", bbox_inches = 'tight')\n",
    "plt.show()"
   ]
  },
  {
   "cell_type": "markdown",
   "metadata": {},
   "source": [
    "### Step 15. Predict Classes of Unseen Test Images"
   ]
  },
  {
   "cell_type": "code",
   "execution_count": null,
   "metadata": {},
   "outputs": [],
   "source": [
    "processed_images = []\n",
    "titles = []\n",
    "\n",
    "# Loop over all files in the test folder and its subfolders\n",
    "for root, dirs, files in os.walk(testing_dir):\n",
    "    for test_image in files:\n",
    "        # Ensure it's a valid image file\n",
    "        if test_image.endswith(('.jpg', '.jpeg', '.png')):\n",
    "            # Construct the full path to the image\n",
    "            image_path = os.path.join(root, test_image)\n",
    "\n",
    "            orig = cv2.imread(image_path)\n",
    "            resized = cv2.resize(orig, (img_height, img_width))\n",
    "\n",
    "            # Load and preprocess the image\n",
    "            img = tf.keras.utils.load_img(image_path, target_size=(img_height, img_width))\n",
    "            img_array = tf.keras.utils.img_to_array(img)\n",
    "            img_array = tf.expand_dims(img_array, 0)  # Create a batch\n",
    "\n",
    "            # Make predictions using the model\n",
    "            predictions = model.predict(img_array)\n",
    "            score = tf.nn.softmax(predictions[0])\n",
    "            i = np.argmax(predictions[0])\n",
    "\n",
    "            if show_heatmap:\n",
    "                # Generate the heatmap using Grad-CAM\n",
    "                cam = GradCAM(model, i, 'max_pooling2d_2')\n",
    "                heatmap = cam.compute_heatmap(img_array)\n",
    "\n",
    "                heatmap = cv2.resize(heatmap, (orig.shape[1], orig.shape[0]))\n",
    "                (heatmap, output) = cam.overlay_heatmap(heatmap, orig, alpha=0.5)\n",
    "\n",
    "                # Plot the original and heatmap overlay in a single figure\n",
    "                plt.figure(figsize=(15, 5))\n",
    "\n",
    "                # Original Image\n",
    "                plt.subplot(1, 3, 1)\n",
    "                plt.imshow(cv2.cvtColor(orig, cv2.COLOR_BGR2RGB))\n",
    "                plt.title('Original Image')\n",
    "                plt.axis('off')\n",
    "\n",
    "                # Heatmap Overlay\n",
    "                plt.subplot(1, 3, 2)\n",
    "                plt.imshow(cv2.cvtColor(output, cv2.COLOR_BGR2RGB))\n",
    "                plt.title('Heatmap Overlay')\n",
    "                plt.axis('off')\n",
    "\n",
    "                # Show the combined plot\n",
    "                plt.tight_layout()\n",
    "                plt.savefig(f\"{model_name}_{test_image}_heatmap.png\", bbox_inches = 'tight')\n",
    "                plt.show()\n",
    "\n",
    "            # Add the image and title to the lists\n",
    "            processed_images.append(img)\n",
    "            titles.append(f\"{test_image} ({class_names[np.argmax(score)]} - {100 * np.max(score):.2f}%)\")"
   ]
  },
  {
   "cell_type": "markdown",
   "metadata": {},
   "source": [
    "### Step 16. Visualise Predictions"
   ]
  },
  {
   "cell_type": "code",
   "execution_count": null,
   "metadata": {},
   "outputs": [],
   "source": [
    "num_images = len(processed_images)\n",
    "cols = 4  # Number of columns in the grid\n",
    "rows = (num_images // cols) + 1 if num_images % cols != 0 else num_images // cols\n",
    "\n",
    "fig, axes = plt.subplots(rows, cols, figsize=(15, 5 * rows))\n",
    "\n",
    "for i, ax in enumerate(axes.flat):\n",
    "    if i < num_images:\n",
    "        ax.imshow(processed_images[i])\n",
    "        ax.set_title(titles[i])\n",
    "        ax.axis('off')\n",
    "    else:\n",
    "        ax.axis('off')  # Hide any unused subplots\n",
    "\n",
    "plt.tight_layout()\n",
    "plt.savefig(f\"{model_name}_predictions.png\", bbox_inches = 'tight')\n",
    "plt.show()"
   ]
  },
  {
   "cell_type": "markdown",
   "metadata": {},
   "source": [
    "### Step 17. Save the model"
   ]
  },
  {
   "cell_type": "code",
   "execution_count": null,
   "metadata": {},
   "outputs": [],
   "source": [
    "model.save(f\"{model_name}.keras\")"
   ]
  },
  {
   "cell_type": "markdown",
   "metadata": {},
   "source": [
    "### Step 18. Convert & Save Model as TF Lite"
   ]
  },
  {
   "cell_type": "code",
   "execution_count": null,
   "metadata": {},
   "outputs": [],
   "source": [
    "# Convert the model to TFLite format\n",
    "converter = tf.lite.TFLiteConverter.from_keras_model(model)\n",
    "tflite_model = converter.convert()\n",
    "\n",
    "# Save the model.\n",
    "with open(f\"{model_name}.tflite\", 'wb') as f:\n",
    "  f.write(tflite_model)"
   ]
  }
 ],
 "metadata": {
  "kernelspec": {
   "display_name": "Python 3",
   "language": "python",
   "name": "python3"
  },
  "language_info": {
   "codemirror_mode": {
    "name": "ipython",
    "version": 3
   },
   "file_extension": ".py",
   "mimetype": "text/x-python",
   "name": "python",
   "nbconvert_exporter": "python",
   "pygments_lexer": "ipython3",
   "version": "3.11.1"
  }
 },
 "nbformat": 4,
 "nbformat_minor": 2
}
